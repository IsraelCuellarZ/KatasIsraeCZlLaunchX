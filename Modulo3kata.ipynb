{
 "cells": [
  {
   "cell_type": "markdown",
   "metadata": {},
   "source": [
    "Ejercicio 1"
   ]
  },
  {
   "cell_type": "markdown",
   "metadata": {},
   "source": [
    "Para este ejercicio, escribirás una lógica condicional que imprima una advertencia si un asteroide se acerca a la Tierra demasiado rápido. La velocidad del asteroide varía dependiendo de lo cerca que esté del sol, y cualquier velocidad superior a 25 kilómetros por segundo (km/s) merece una advertencia.\n",
    "\n",
    "Un asteroide se acerca, y viaja a una velocidad de 49 km/s."
   ]
  },
  {
   "cell_type": "code",
   "execution_count": 9,
   "metadata": {},
   "outputs": [
    {
     "name": "stdout",
     "output_type": "stream",
     "text": [
      "Advertencia se acerca un asteroide a gran velocidad: 49Km/s\n"
     ]
    }
   ],
   "source": [
    "velocidad_del_asteroide = 49 #Km/s\n",
    "velocidad_peligrosa = 25 #Km/s\n",
    "\n",
    "#velocidad_del_asteroide = int(input(\"¿Cual es la velocidad del asteroide? \"))\n",
    "\n",
    "if velocidad_del_asteroide >= velocidad_peligrosa:\n",
    "    print(\"Advertencia se acerca un asteroide a gran velocidad: \"+ str(velocidad_del_asteroide) + \"Km/s\")\n",
    "else:\n",
    "    print(\"No hay peligro\")    \n",
    "\n"
   ]
  },
  {
   "cell_type": "markdown",
   "metadata": {},
   "source": [
    "Ejercicio 2"
   ]
  },
  {
   "cell_type": "markdown",
   "metadata": {},
   "source": [
    "Si un asteroide entra en la atmósfera de la Tierra a una velocidad mayor o igual a 20 km/s, a veces produce un rayo de luz que se puede ver desde la Tierra. Escribe la lógica condicional que usa declaraciones `if`, `else`, y `elif` para alertar a las personas de todo el mundo que deben buscar un asteroide en el cielo. ¡Hay uno que se dirige a la tierra ahora a una velocidad de 19 km/s!"
   ]
  },
  {
   "cell_type": "code",
   "execution_count": 15,
   "metadata": {},
   "outputs": [
    {
     "name": "stdout",
     "output_type": "stream",
     "text": [
      "Se acerca un asteroide el cual producira un desteyo de luz en el cielo\n"
     ]
    }
   ],
   "source": [
    "rayo_luz = 20 #Km/s\n",
    "velocidad_del_asteroide = 19 #Km/s\n",
    "\n",
    "\n",
    "#velocidad_del_asteroide = int(input(\"¿Cual es la velocidad del asteroide? \"))\n",
    "\n",
    "if velocidad_del_asteroide > rayo_luz :\n",
    "    print(\"Se acerca un asteroide el cual producira un rayo de luz en el cielo, animate a buscarlo\")\n",
    "elif velocidad_del_asteroide == rayo_luz :\n",
    "    print(\"Posibilidades de ver un un rayo de luz, producido por un asteroide en el cielo, animate a buscarlo\")\n",
    "else:\n",
    "    print(\"Tendremos un cielo tranquilo\")"
   ]
  },
  {
   "cell_type": "markdown",
   "metadata": {},
   "source": [
    "Ejercicio 3"
   ]
  },
  {
   "cell_type": "markdown",
   "metadata": {},
   "source": [
    "Usando toda esta información, escribe un programa que emita la advertencia o información correcta a la gente de la Tierra, según la velocidad y el tamaño de un asteroide. Utiliza instrucciones `if`, `else`, y `elif`, así como los operadores `and` y `or`."
   ]
  },
  {
   "cell_type": "code",
   "execution_count": 27,
   "metadata": {},
   "outputs": [
    {
     "name": "stdout",
     "output_type": "stream",
     "text": [
      "Tendremos un cielo tranquilo\n",
      "19 metros 19 Km/s\n"
     ]
    }
   ],
   "source": [
    "velocidad_del_asteroide = 49 #Km/s\n",
    "dimension_asteroide = 25 #m\n",
    "\n",
    "velocidad_peligrosa = 25 #Km/s\n",
    "dimension_peligrosa = 25 #m\n",
    "rayo_luz            = 20 #Km/s\n",
    "\n",
    "#velocidad_del_asteroide = int(input(\"¿Cual es la velocidad del asteroide? \"))\n",
    "#dimension_asteroide = int(input(\"¿Cual es la dimension del asteroide? \"))\n",
    "\n",
    "if dimension_asteroide >= dimension_peligrosa and velocidad_del_asteroide >= velocidad_peligrosa :\n",
    "    print(\"Peligro se acerca un asteroide de dimensiones: \" + str(dimension_asteroide) +(\" metros\") +\n",
    "    \"\\n con una velocidad de: \" + str(velocidad_del_asteroide) + (\" Km/s\") +\n",
    "    (\"\\n se podra observar en el cielo\")\n",
    "    )\n",
    "\n",
    "elif dimension_asteroide < dimension_peligrosa and velocidad_del_asteroide >= velocidad_peligrosa  :\n",
    "    print(\"Posibilidades de ver un un rayo de luz, producido por un asteroide en el cielo, animate a buscarlo\")\n",
    "    #print(str(dimension_asteroide ) + \" metros\" + \" \" + str(velocidad_del_asteroide) + \" Km/s\")\n",
    "    \n",
    "else:\n",
    "    print(\"Tendremos un cielo tranquilo\")\n",
    "    #print(str(dimension_asteroide ) + \" metros\" + \" \" + str(velocidad_del_asteroide) + \" Km/s\")\n",
    "\n"
   ]
  }
 ],
 "metadata": {
  "interpreter": {
   "hash": "6cfbaca1c2fc50c28085f0e6ce931d180c2871771114c42a152e79d5d2404eaa"
  },
  "kernelspec": {
   "display_name": "Python 3.10.0 64-bit",
   "language": "python",
   "name": "python3"
  },
  "language_info": {
   "codemirror_mode": {
    "name": "ipython",
    "version": 3
   },
   "file_extension": ".py",
   "mimetype": "text/x-python",
   "name": "python",
   "nbconvert_exporter": "python",
   "pygments_lexer": "ipython3",
   "version": "3.10.2"
  },
  "orig_nbformat": 4
 },
 "nbformat": 4,
 "nbformat_minor": 2
}
